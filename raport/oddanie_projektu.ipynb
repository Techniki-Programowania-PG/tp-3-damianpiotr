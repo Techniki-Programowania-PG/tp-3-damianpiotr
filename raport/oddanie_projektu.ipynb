{
 "cells": [
  {
   "cell_type": "markdown",
   "metadata": {},
   "source": [
    "# TECHNIKI PROGRAMOWANIA - projekt 3\n",
    "### Damian Rutkowski 203304\n",
    "### Aleksander Stachurski 207394\n",
    "\n",
    "Wykorzystane biblioteki:\n",
    "- pybind11 (C++)\n",
    "- Matplot++ (C++)\n",
    "- Standardowa biblioteka C++:\n",
    "  - vector\n",
    "  - complex\n",
    "  - algorithm\n",
    "  - stdexcept\n",
    "  - cmath\n",
    "- numpy (Python)\n",
    "- math (Python)\n",
    "- PIL (Python)\n",
    "- projekt3 (moduł Python/C++)\n"
   ]
  },
  {
   "cell_type": "markdown",
   "metadata": {},
   "source": [
    "# Wykres sinusa\n",
    "Przykład obrazujący zaimplementowaną funkcjonalność rysowania wykresu sinusa."
   ]
  },
  {
   "cell_type": "code",
   "execution_count": 1,
   "metadata": {},
   "outputs": [],
   "source": [
    "import projekt3 as pt\n",
    "import numpy as np\n",
    "\n",
    "pt.sinus(2.0, 0.0, 8 * np.pi, 500)  # częstotliwość=2, od 0 do 8π, 500 próbek\n",
    "#wykres zapisany do pliku sinus.png"
   ]
  },
  {
   "cell_type": "markdown",
   "metadata": {},
   "source": [
    "![Wykres sinusa](sinus.png)"
   ]
  },
  {
   "cell_type": "markdown",
   "metadata": {},
   "source": [
    "# Wykres cosinusa\n",
    "Przykład obrazujący zaimplementowaną funkcjonalność rysowania wykresu cosinusa."
   ]
  },
  {
   "cell_type": "code",
   "execution_count": 2,
   "metadata": {},
   "outputs": [],
   "source": [
    "import projekt3 as pt\n",
    "import numpy as np\n",
    "\n",
    "pt.cosinus(2.0, 0.0, 8 * np.pi, 500)  # częstotliwość=2, od 0 do 8π, 500 próbek\n",
    "#wykres zapisany do pliku cosinus.png"
   ]
  },
  {
   "cell_type": "markdown",
   "metadata": {},
   "source": [
    "![Wykres cosinusa](cosinus.png)"
   ]
  },
  {
   "cell_type": "markdown",
   "metadata": {},
   "source": [
    "# Wykres sygnału prostokątnego\n",
    "Przykład obrazujący zaimplementowaną funkcjonalność rysowania wykresu sygnału prostokątnego."
   ]
  },
  {
   "cell_type": "code",
   "execution_count": null,
   "metadata": {},
   "outputs": [],
   "source": [
    "import projekt3 as pt\n",
    "import numpy as np\n",
    "\n",
    "pt.prostokat(5.0, 0.0, 4 * np.pi, 1000) # częstotliwość=5, od 0 do 4π, 1000 próbek\n",
    "#wykres zapisany do pliku prostokatny.png"
   ]
  },
  {
   "cell_type": "markdown",
   "metadata": {},
   "source": [
    "![Wykres sygnału prostokątnego](prostokatny.png)"
   ]
  },
  {
   "cell_type": "markdown",
   "metadata": {},
   "source": [
    "# Wykres sygnału piłokształtnego\n",
    "Przykład obrazujący zaimplementowaną funkcjonalność rysowania wykresu sygnału piłokształtnego."
   ]
  },
  {
   "cell_type": "code",
   "execution_count": 4,
   "metadata": {},
   "outputs": [],
   "source": [
    "import projekt3 as pt\n",
    "import numpy as np\n",
    "\n",
    "pt.pila(5.0, 0.0, 4 * np.pi, 1000) # częstotliwość=5, od 0 do 4π, 1000 próbek\n",
    "#wykres zapisany do pliku piloksztaltny.png"
   ]
  },
  {
   "cell_type": "markdown",
   "metadata": {},
   "source": [
    "![Wykres sygnału piłkoształtnego](piloksztaltny.png)"
   ]
  },
  {
   "cell_type": "markdown",
   "metadata": {},
   "source": [
    "# DFT oraz IDFT\n",
    "Przykład obrazujący zaimplementowaną funkcjonalność DFT oraz IDFT"
   ]
  },
  {
   "cell_type": "code",
   "execution_count": null,
   "metadata": {},
   "outputs": [],
   "source": [
    "import projekt3 as pt\n",
    "import numpy as np\n",
    "import math\n",
    "\n",
    "N = 100        # liczba próbek\n",
    "f = 5          # częstotliwość sygnału w Hz\n",
    "fs = 100       # częstotliwość próbkowania w Hz\n",
    "sinus_sygnal = [math.sin(2 * np.pi * f * n / fs) for n in range(N)]\n",
    "pt.dft_idft(sinus_sygnal)\n",
    "#wykres dft zapisany do pliku dft.png\n",
    "#wykres idft zapisany do pliku idft.png"
   ]
  },
  {
   "cell_type": "markdown",
   "metadata": {},
   "source": [
    "![dft](dft.png)\n",
    "![idft](idft.png)"
   ]
  },
  {
   "cell_type": "markdown",
   "metadata": {},
   "source": [
    "# Wykrywanie piku w sygnale\n",
    "Przykład obrazujący zaimplementowaną funkcjonalność wykrywania piku w sygnale."
   ]
  },
  {
   "cell_type": "code",
   "execution_count": null,
   "metadata": {},
   "outputs": [],
   "source": [
    "import projekt3 as pt\n",
    "import numpy as np\n",
    "\n",
    "t = np.linspace(0, 4*np.pi, 200)  # 2 okresy sinusoidy\n",
    "sygnal = np.sin(t)\n",
    "pt.pokaz_piki(sygnal.tolist())\n",
    "# zapisane jako wykrywanie_piku.png"
   ]
  },
  {
   "cell_type": "markdown",
   "metadata": {},
   "source": [
    "![wykrywanie piku](wykrywanie_piku.png)"
   ]
  },
  {
   "cell_type": "markdown",
   "metadata": {},
   "source": [
    "# Filtracja 1D\n",
    "Przykład obrazujący zaimplementowaną funkcjonalność filtracji 1D."
   ]
  },
  {
   "cell_type": "code",
   "execution_count": null,
   "metadata": {},
   "outputs": [],
   "source": [
    "t = np.linspace(0, 16*np.pi, 200)\n",
    "sygnal = np.sin(t) + 0.1*np.random.randn(200)\n",
    "pt.pokaz_filtracje(sygnal.tolist())\n",
    "# zapisane jako filtracja1d.png"
   ]
  },
  {
   "cell_type": "markdown",
   "metadata": {},
   "source": [
    "![filtracja 1d](filtracja1d.png)"
   ]
  },
  {
   "cell_type": "markdown",
   "metadata": {},
   "source": [
    "# Filtracja 2D\n",
    "Przykład obrazujący zaimplementowaną funkcjonalność filtracji 2D typu uśredniającego z użyciem maski o rozmiarze 3×3. Jest to przykład filtru dolnoprzepustowego, który wygładza obraz, redukując szum i eliminując nagłe zmiany intensywności."
   ]
  },
  {
   "cell_type": "code",
   "execution_count": null,
   "metadata": {},
   "outputs": [],
   "source": [
    "import projekt3 as pt\n",
    "import numpy as np\n",
    "from PIL import Image\n",
    "\n",
    "img = Image.open(\"../zdjecie.jpg\").convert(\"L\")\n",
    "img_np = np.array(img) / 255.0\n",
    "img_lista = img_np.tolist()\n",
    "\n",
    "# Filtrowanie 2D\n",
    "przefiltrowane = pt.filtruj_2d(img_lista)\n",
    "\n",
    "# Zapis i wizualizacja\n",
    "pt.pokaz_obraz(img_lista, \"oryginal.png\", \"Przed filtracją\") # zapisane jako oryginal.png\n",
    "pt.pokaz_obraz(przefiltrowane, \"przefiltrowany.png\", \"Po filtracji 2D\") # zapisane jako przefiltrowany.png"
   ]
  },
  {
   "cell_type": "markdown",
   "metadata": {},
   "source": [
    "![filtracja 2d](oryginal.png)\n",
    "![filtracja 2d](przefiltrowany.png)"
   ]
  }
 ],
 "metadata": {
  "kernelspec": {
   "display_name": "Python 3",
   "language": "python",
   "name": "python3"
  },
  "language_info": {
   "codemirror_mode": {
    "name": "ipython",
    "version": 3
   },
   "file_extension": ".py",
   "mimetype": "text/x-python",
   "name": "python",
   "nbconvert_exporter": "python",
   "pygments_lexer": "ipython3",
   "version": "3.13.3"
  }
 },
 "nbformat": 4,
 "nbformat_minor": 2
}
